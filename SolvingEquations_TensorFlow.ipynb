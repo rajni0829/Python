{
  "nbformat": 4,
  "nbformat_minor": 0,
  "metadata": {
    "colab": {
      "name": "Copy of Untitled15.ipynb",
      "provenance": [],
      "collapsed_sections": [],
      "authorship_tag": "ABX9TyPtofdtVJlICHX7F9xhHTQA",
      "include_colab_link": true
    },
    "kernelspec": {
      "name": "python3",
      "display_name": "Python 3"
    },
    "language_info": {
      "name": "python"
    }
  },
  "cells": [
    {
      "cell_type": "markdown",
      "metadata": {
        "id": "view-in-github",
        "colab_type": "text"
      },
      "source": [
        "<a href=\"https://colab.research.google.com/github/rajni0829/Python/blob/main/SolvingEquations_TensorFlow.ipynb\" target=\"_parent\"><img src=\"https://colab.research.google.com/assets/colab-badge.svg\" alt=\"Open In Colab\"/></a>"
      ]
    },
    {
      "cell_type": "code",
      "execution_count": 13,
      "metadata": {
        "id": "UorQZtvB8eqn"
      },
      "outputs": [],
      "source": [
        "import tensorflow as tf"
      ]
    },
    {
      "cell_type": "code",
      "source": [
        "# creating tensors\n",
        "w = tf.constant([[1,2,3],[5,6,7],[9,10,11],[4,8,12]],tf.int32)\n",
        "w"
      ],
      "metadata": {
        "colab": {
          "base_uri": "https://localhost:8080/"
        },
        "id": "UUOx0xGb9h5x",
        "outputId": "a3bc488a-1335-4934-bf88-00d247f61bb2"
      },
      "execution_count": 14,
      "outputs": [
        {
          "output_type": "execute_result",
          "data": {
            "text/plain": [
              "<tf.Tensor 'Const:0' shape=(4, 3) dtype=int32>"
            ]
          },
          "metadata": {},
          "execution_count": 14
        }
      ]
    },
    {
      "cell_type": "code",
      "source": [
        "x = tf.constant([[1],[5],[9],[4]],tf.int32)\n",
        "x"
      ],
      "metadata": {
        "colab": {
          "base_uri": "https://localhost:8080/"
        },
        "id": "O_jwQvG99qkV",
        "outputId": "57f7a4ae-b366-4359-87d7-130d69f389a0"
      },
      "execution_count": 15,
      "outputs": [
        {
          "output_type": "execute_result",
          "data": {
            "text/plain": [
              "<tf.Tensor 'Const_1:0' shape=(4, 1) dtype=int32>"
            ]
          },
          "metadata": {},
          "execution_count": 15
        }
      ]
    },
    {
      "cell_type": "code",
      "source": [
        "mul_a = tf.multiply(w,x)\n",
        "mul_a"
      ],
      "metadata": {
        "colab": {
          "base_uri": "https://localhost:8080/"
        },
        "id": "0AILvaeR9qne",
        "outputId": "50fa6fcd-8ac4-4144-fbd7-b40926959dfb"
      },
      "execution_count": 16,
      "outputs": [
        {
          "output_type": "execute_result",
          "data": {
            "text/plain": [
              "<tf.Tensor 'Mul:0' shape=(4, 3) dtype=int32>"
            ]
          },
          "metadata": {},
          "execution_count": 16
        }
      ]
    },
    {
      "cell_type": "code",
      "source": [
        "mul_b = tf.multiply(x,mul_a)\n",
        "mul_b"
      ],
      "metadata": {
        "colab": {
          "base_uri": "https://localhost:8080/"
        },
        "id": "xpLj63ov9qq9",
        "outputId": "562c64df-bd34-406c-bbec-fbc1ea314335"
      },
      "execution_count": 17,
      "outputs": [
        {
          "output_type": "execute_result",
          "data": {
            "text/plain": [
              "<tf.Tensor 'Mul_1:0' shape=(4, 3) dtype=int32>"
            ]
          },
          "metadata": {},
          "execution_count": 17
        }
      ]
    },
    {
      "cell_type": "code",
      "source": [
        "sum = tf.add(mul_a,mul_b)\n",
        "sum"
      ],
      "metadata": {
        "colab": {
          "base_uri": "https://localhost:8080/"
        },
        "id": "-jxBLOCo-dGh",
        "outputId": "175d05fd-9b29-45d8-bb18-bdaa2c43e113"
      },
      "execution_count": 18,
      "outputs": [
        {
          "output_type": "execute_result",
          "data": {
            "text/plain": [
              "<tf.Tensor 'Add_1:0' shape=(4, 3) dtype=int32>"
            ]
          },
          "metadata": {},
          "execution_count": 18
        }
      ]
    },
    {
      "cell_type": "code",
      "source": [
        "ans = tf.add(sum,x)\n",
        "ans"
      ],
      "metadata": {
        "colab": {
          "base_uri": "https://localhost:8080/"
        },
        "id": "J7WPllf2_8PQ",
        "outputId": "1706ef3a-5d71-40d7-8c47-d91c643ac576"
      },
      "execution_count": 19,
      "outputs": [
        {
          "output_type": "execute_result",
          "data": {
            "text/plain": [
              "<tf.Tensor 'Add_2:0' shape=(4, 3) dtype=int32>"
            ]
          },
          "metadata": {},
          "execution_count": 19
        }
      ]
    },
    {
      "cell_type": "code",
      "source": [
        "import tensorflow.compat.v1 as tf\n",
        "tf.disable_v2_behavior()\n",
        "\n",
        "# opening a session\n",
        "sess = tf.Session()\n",
        "res = sess.run(ans)\n",
        "print(res)\n",
        "sess.close()"
      ],
      "metadata": {
        "colab": {
          "base_uri": "https://localhost:8080/"
        },
        "id": "9KMWzloW_tvU",
        "outputId": "829115c3-c94a-4eba-f4e7-41cde98122ce"
      },
      "execution_count": 20,
      "outputs": [
        {
          "output_type": "stream",
          "name": "stdout",
          "text": [
            "[[  3   5   7]\n",
            " [155 185 215]\n",
            " [819 909 999]\n",
            " [ 84 164 244]]\n"
          ]
        }
      ]
    },
    {
      "cell_type": "code",
      "source": [
        "# another method to create a session \n",
        "with tf.Session() as sess:\n",
        "  result_2 = ans.eval()\n",
        "print(result_2)\n"
      ],
      "metadata": {
        "colab": {
          "base_uri": "https://localhost:8080/"
        },
        "id": "quc4N9dc-dJ6",
        "outputId": "f159b99a-c83c-4223-a096-328c0b96a2e9"
      },
      "execution_count": 21,
      "outputs": [
        {
          "output_type": "stream",
          "name": "stdout",
          "text": [
            "[[  3   5   7]\n",
            " [155 185 215]\n",
            " [819 909 999]\n",
            " [ 84 164 244]]\n"
          ]
        }
      ]
    },
    {
      "cell_type": "code",
      "source": [
        "import numpy as np\n",
        "data_placeholder =tf.placeholder(tf.int32,name=\"placeholder\")\n",
        "power_a = tf.pow(data_placeholder, 3)\n"
      ],
      "metadata": {
        "id": "2X-d127wBKFJ"
      },
      "execution_count": 22,
      "outputs": []
    },
    {
      "cell_type": "code",
      "source": [
        "with tf.Session() as sess:\n",
        "  data = np.random.rand(1, 11)                                  \n",
        "  # Create any random array in data\n",
        "  print(sess.run(power_a, feed_dict={data_placeholder:data}))   \n",
        "  # Provide the placeholder into data.\n",
        "sess.close()"
      ],
      "metadata": {
        "colab": {
          "base_uri": "https://localhost:8080/"
        },
        "id": "ZptKeuQDBKIC",
        "outputId": "29d86037-2344-49f2-c28c-969909183222"
      },
      "execution_count": 23,
      "outputs": [
        {
          "output_type": "stream",
          "name": "stdout",
          "text": [
            "[[0 0 0 0 0 0 0 0 0 0 0]]\n"
          ]
        }
      ]
    },
    {
      "cell_type": "code",
      "source": [
        "# Now taking random values and calc the ans\n",
        "\n",
        "x = tf.compat.v1.get_variable(\"x\", dtype=tf.int32,initializer=tf.constant([5]))\n",
        "z = tf.compat.v1.get_variable(\"z\", dtype=tf.int32, initializer=tf.constant([6]))\n",
        "c = tf.constant([5], name =\"constant\")\n"
      ],
      "metadata": {
        "id": "3QrViQUBBKLm"
      },
      "execution_count": 24,
      "outputs": []
    },
    {
      "cell_type": "code",
      "source": [
        "square = tf.constant([2], name =\"square\")\n",
        "f = tf.multiply(x, z) + tf.pow(x, square) + z + c\n",
        "print(f)"
      ],
      "metadata": {
        "colab": {
          "base_uri": "https://localhost:8080/"
        },
        "id": "uZofUl06Kpoy",
        "outputId": "f5ac40a3-e373-4861-a46d-20fd09ab429b"
      },
      "execution_count": 25,
      "outputs": [
        {
          "output_type": "stream",
          "name": "stdout",
          "text": [
            "Tensor(\"add_5:0\", shape=(1,), dtype=int32)\n"
          ]
        }
      ]
    },
    {
      "cell_type": "code",
      "source": [
        "init = tf.global_variables_initializer()\n",
        "with tf.Session() as sess:\n",
        "  init.run() #Initialization of x and y\n",
        "  function_result = ans.eval()\n",
        "print (function_result)"
      ],
      "metadata": {
        "colab": {
          "base_uri": "https://localhost:8080/"
        },
        "id": "jBE_XJS2NWxV",
        "outputId": "55605cd2-2071-43dd-8c82-fa962870bc71"
      },
      "execution_count": 26,
      "outputs": [
        {
          "output_type": "stream",
          "name": "stdout",
          "text": [
            "[[  3   5   7]\n",
            " [155 185 215]\n",
            " [819 909 999]\n",
            " [ 84 164 244]]\n"
          ]
        }
      ]
    }
  ]
}