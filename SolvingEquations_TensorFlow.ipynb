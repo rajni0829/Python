{
  "nbformat": 4,
  "nbformat_minor": 0,
  "metadata": {
    "colab": {
      "name": "Copy of Untitled15.ipynb",
      "provenance": [],
      "authorship_tag": "ABX9TyNwMrRuc3/43x3vHilRzwQi",
      "include_colab_link": true
    },
    "kernelspec": {
      "name": "python3",
      "display_name": "Python 3"
    },
    "language_info": {
      "name": "python"
    }
  },
  "cells": [
    {
      "cell_type": "markdown",
      "metadata": {
        "id": "view-in-github",
        "colab_type": "text"
      },
      "source": [
        "<a href=\"https://colab.research.google.com/github/rajni0829/Python/blob/main/SolvingEquations_TensorFlow.ipynb\" target=\"_parent\"><img src=\"https://colab.research.google.com/assets/colab-badge.svg\" alt=\"Open In Colab\"/></a>"
      ]
    },
    {
      "cell_type": "code",
      "execution_count": 9,
      "metadata": {
        "id": "UorQZtvB8eqn"
      },
      "outputs": [],
      "source": [
        "import tensorflow as tf"
      ]
    },
    {
      "cell_type": "code",
      "source": [
        "# creating tensors\n",
        "w = tf.constant([[1,2,3],[5,6,7],[9,10,11],[4,8,12]],tf.int32)\n",
        "w"
      ],
      "metadata": {
        "colab": {
          "base_uri": "https://localhost:8080/"
        },
        "id": "UUOx0xGb9h5x",
        "outputId": "2b8f7fcd-84a2-4043-83bc-62f73d46d5cf"
      },
      "execution_count": 23,
      "outputs": [
        {
          "output_type": "execute_result",
          "data": {
            "text/plain": [
              "<tf.Tensor 'Const_2:0' shape=(4, 3) dtype=int32>"
            ]
          },
          "metadata": {},
          "execution_count": 23
        }
      ]
    },
    {
      "cell_type": "code",
      "source": [
        "x = tf.constant([[1],[5],[9],[4]],tf.int32)\n",
        "x"
      ],
      "metadata": {
        "colab": {
          "base_uri": "https://localhost:8080/"
        },
        "id": "O_jwQvG99qkV",
        "outputId": "0889dd55-5296-4042-fb1a-4100abb7e28c"
      },
      "execution_count": 24,
      "outputs": [
        {
          "output_type": "execute_result",
          "data": {
            "text/plain": [
              "<tf.Tensor 'Const_3:0' shape=(4, 1) dtype=int32>"
            ]
          },
          "metadata": {},
          "execution_count": 24
        }
      ]
    },
    {
      "cell_type": "code",
      "source": [
        "mul_a = tf.multiply(w,x)\n",
        "mul_a"
      ],
      "metadata": {
        "colab": {
          "base_uri": "https://localhost:8080/"
        },
        "id": "0AILvaeR9qne",
        "outputId": "e77b10ef-6972-4ce0-d0e8-5ab08567298b"
      },
      "execution_count": 25,
      "outputs": [
        {
          "output_type": "execute_result",
          "data": {
            "text/plain": [
              "<tf.Tensor 'Mul_1:0' shape=(4, 3) dtype=int32>"
            ]
          },
          "metadata": {},
          "execution_count": 25
        }
      ]
    },
    {
      "cell_type": "code",
      "source": [
        "mul_b = tf.multiply(x,mul_a)\n",
        "mul_b"
      ],
      "metadata": {
        "colab": {
          "base_uri": "https://localhost:8080/"
        },
        "id": "xpLj63ov9qq9",
        "outputId": "8f9f109e-18c5-4b26-c1cf-aac9662199d1"
      },
      "execution_count": 26,
      "outputs": [
        {
          "output_type": "execute_result",
          "data": {
            "text/plain": [
              "<tf.Tensor 'Mul_2:0' shape=(4, 3) dtype=int32>"
            ]
          },
          "metadata": {},
          "execution_count": 26
        }
      ]
    },
    {
      "cell_type": "code",
      "source": [
        "sum = tf.add(mul_a,mul_b)\n",
        "sum"
      ],
      "metadata": {
        "colab": {
          "base_uri": "https://localhost:8080/"
        },
        "id": "-jxBLOCo-dGh",
        "outputId": "f8ac386f-6d60-420e-d246-f82a3c3a2efa"
      },
      "execution_count": 27,
      "outputs": [
        {
          "output_type": "execute_result",
          "data": {
            "text/plain": [
              "<tf.Tensor 'Add_5:0' shape=(4, 3) dtype=int32>"
            ]
          },
          "metadata": {},
          "execution_count": 27
        }
      ]
    },
    {
      "cell_type": "code",
      "source": [
        "ans = tf.add(sum,x)\n",
        "ans"
      ],
      "metadata": {
        "colab": {
          "base_uri": "https://localhost:8080/"
        },
        "id": "J7WPllf2_8PQ",
        "outputId": "8d6b06d9-a6ce-4861-ea7a-099d936fbaac"
      },
      "execution_count": 28,
      "outputs": [
        {
          "output_type": "execute_result",
          "data": {
            "text/plain": [
              "<tf.Tensor 'Add_6:0' shape=(4, 3) dtype=int32>"
            ]
          },
          "metadata": {},
          "execution_count": 28
        }
      ]
    },
    {
      "cell_type": "code",
      "source": [
        ""
      ],
      "metadata": {
        "id": "BqhM7SkjAerl"
      },
      "execution_count": 15,
      "outputs": []
    },
    {
      "cell_type": "code",
      "source": [
        "import tensorflow.compat.v1 as tf\n",
        "tf.disable_v2_behavior()\n",
        "\n",
        "# opening a session\n",
        "sess = tf.Session()\n",
        "res = sess.run(ans)\n",
        "print(res)\n",
        "sess.close()"
      ],
      "metadata": {
        "colab": {
          "base_uri": "https://localhost:8080/"
        },
        "id": "9KMWzloW_tvU",
        "outputId": "8960fab1-4f32-4158-b4a3-e98b8164820a"
      },
      "execution_count": 29,
      "outputs": [
        {
          "output_type": "stream",
          "name": "stdout",
          "text": [
            "[[  3   5   7]\n",
            " [155 185 215]\n",
            " [819 909 999]\n",
            " [ 84 164 244]]\n"
          ]
        }
      ]
    },
    {
      "cell_type": "code",
      "source": [
        "# another method to create a session \n",
        "with tf.Session() as sess:\n",
        "  result_2 = ans.eval()\n",
        "print(result_2)\n"
      ],
      "metadata": {
        "colab": {
          "base_uri": "https://localhost:8080/"
        },
        "id": "quc4N9dc-dJ6",
        "outputId": "9122a0a9-4f00-42ab-82f9-e1793f179938"
      },
      "execution_count": 30,
      "outputs": [
        {
          "output_type": "stream",
          "name": "stdout",
          "text": [
            "[[  3   5   7]\n",
            " [155 185 215]\n",
            " [819 909 999]\n",
            " [ 84 164 244]]\n"
          ]
        }
      ]
    },
    {
      "cell_type": "code",
      "source": [
        "import numpy as np\n",
        "data_placeholder =tf.placeholder(tf.int32,name=\"placeholder\")\n",
        "power_a = tf.pow(data_placeholder, 3)\n"
      ],
      "metadata": {
        "id": "2X-d127wBKFJ"
      },
      "execution_count": 18,
      "outputs": []
    },
    {
      "cell_type": "code",
      "source": [
        "with tf.Session() as sess:\n",
        "  data = np.random.rand(1, 11)                                  # Create any random array in data\n",
        "  print(sess.run(power_a, feed_dict={data_placeholder:data}))   # Provide the placeholder into data.\n",
        "sess.close()"
      ],
      "metadata": {
        "colab": {
          "base_uri": "https://localhost:8080/"
        },
        "id": "ZptKeuQDBKIC",
        "outputId": "0189a20b-198f-46a7-e571-14ed4c4edf18"
      },
      "execution_count": 19,
      "outputs": [
        {
          "output_type": "stream",
          "name": "stdout",
          "text": [
            "[[0 0 0 0 0 0 0 0 0 0 0]]\n"
          ]
        }
      ]
    },
    {
      "cell_type": "code",
      "source": [
        "# Now taking random values and calc the ans\n",
        "x1 = tf.get_variable(\"x\",dtype=tf.int32, initializer=tf.constant([5]))\n",
        "y = tf.get_variable(\"y\",dtype=tf.int32,initializer=tf.constant([10]))\n",
        "# a = \n",
        "# b = \n",
        "print(x1)\n",
        "print(y)\n",
        "x = tf.compat.v1.get_variable(\"x\", dtype=tf.int32,initializer=tf.constant([5]))\n",
        "z = tf.compat.v1.get_variable(\"z\", dtype=tf.int32, initializer=tf.constant([6]))\n",
        "c = tf.constant([5], name =\"constant\")\n",
        "square = tf.constant([2], name =\"square\")\n",
        "f = tf.multiply(x, z) + tf.pow(x, square) + z + c\n",
        "print(f)"
      ],
      "metadata": {
        "colab": {
          "base_uri": "https://localhost:8080/"
        },
        "id": "3QrViQUBBKLm",
        "outputId": "ffc76154-f4b4-405e-e65f-89318ea9261c"
      },
      "execution_count": 35,
      "outputs": [
        {
          "output_type": "stream",
          "name": "stdout",
          "text": [
            "<tf.Variable 'x:0' shape=(1,) dtype=int32>\n",
            "<tf.Variable 'y:0' shape=(1,) dtype=int32>\n",
            "Tensor(\"add_21:0\", shape=(1,), dtype=int32)\n"
          ]
        }
      ]
    }
  ]
}