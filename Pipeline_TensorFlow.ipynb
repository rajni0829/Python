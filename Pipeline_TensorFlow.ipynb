{
  "nbformat": 4,
  "nbformat_minor": 0,
  "metadata": {
    "colab": {
      "name": "Pipeline_TensorFlow.ipynb",
      "provenance": [],
      "authorship_tag": "ABX9TyMUDRValDmcF3Hr5uvV/eeJ",
      "include_colab_link": true
    },
    "kernelspec": {
      "name": "python3",
      "display_name": "Python 3"
    },
    "language_info": {
      "name": "python"
    }
  },
  "cells": [
    {
      "cell_type": "markdown",
      "metadata": {
        "id": "view-in-github",
        "colab_type": "text"
      },
      "source": [
        "<a href=\"https://colab.research.google.com/github/rajni0829/Python/blob/main/Pipeline_TensorFlow.ipynb\" target=\"_parent\"><img src=\"https://colab.research.google.com/assets/colab-badge.svg\" alt=\"Open In Colab\"/></a>"
      ]
    },
    {
      "cell_type": "code",
      "execution_count": 50,
      "metadata": {
        "id": "G5hvwYuQNveU"
      },
      "outputs": [],
      "source": [
        "# TensorFlow pipeline\n",
        "import random as rn\n",
        "import numpy as np\n",
        "import tensorflow as tf\n"
      ]
    },
    {
      "cell_type": "code",
      "source": [
        "# creating data\n",
        "x = np.random.sample((1,2))\n",
        "print(x)"
      ],
      "metadata": {
        "colab": {
          "base_uri": "https://localhost:8080/"
        },
        "id": "qyEzqbZVN5NX",
        "outputId": "379a27f9-57bf-4810-e53c-d4b3ce648bb5"
      },
      "execution_count": 51,
      "outputs": [
        {
          "output_type": "stream",
          "name": "stdout",
          "text": [
            "[[0.83707797 0.8023196 ]]\n"
          ]
        }
      ]
    },
    {
      "cell_type": "code",
      "source": [
        "# creating placeholder\n",
        "import tensorflow.compat.v1 as tf\n",
        "tf.disable_v2_behavior()\n",
        "\n",
        "pl = tf.placeholder(tf.float32,shape=[1,2],name=\"X\")\n",
        "pl"
      ],
      "metadata": {
        "colab": {
          "base_uri": "https://localhost:8080/"
        },
        "id": "YjOM29uON5QA",
        "outputId": "ec6c7538-e86a-4d03-f0f0-d0edc04eed3a"
      },
      "execution_count": 52,
      "outputs": [
        {
          "output_type": "execute_result",
          "data": {
            "text/plain": [
              "<tf.Tensor 'X_6:0' shape=(1, 2) dtype=float32>"
            ]
          },
          "metadata": {},
          "execution_count": 52
        }
      ]
    },
    {
      "cell_type": "code",
      "source": [
        "# defining dataset\n",
        "tf.data.Dataset.from_tensor_slices\n",
        "dataset = tf.data.Dataset.from_tensor_slices(x)"
      ],
      "metadata": {
        "id": "so4qBtnpN5Ta"
      },
      "execution_count": 53,
      "outputs": []
    },
    {
      "cell_type": "code",
      "source": [
        "# creating pipeline\n",
        "# loading pp where data is flowing - \n",
        "iterator = dataset.make_initializable_iterator()   # creating iterator\n",
        "print(iterator)\n"
      ],
      "metadata": {
        "colab": {
          "base_uri": "https://localhost:8080/"
        },
        "id": "tk9llbJWO9mt",
        "outputId": "d9a9dd4c-e010-466a-fe24-aedd20eb0a45"
      },
      "execution_count": 54,
      "outputs": [
        {
          "output_type": "stream",
          "name": "stdout",
          "text": [
            "<tensorflow.python.data.ops.iterator_ops.Iterator object at 0x7f6d09aab150>\n"
          ]
        }
      ]
    },
    {
      "cell_type": "code",
      "source": [
        "# calling iterator to feed next batch of data\n",
        "get_next = iterator.get_next()\n",
        "get_next"
      ],
      "metadata": {
        "colab": {
          "base_uri": "https://localhost:8080/"
        },
        "id": "VSL-CBsIO9qA",
        "outputId": "5b49e914-7e90-45a6-bed2-5bd7a8144f01"
      },
      "execution_count": 55,
      "outputs": [
        {
          "output_type": "execute_result",
          "data": {
            "text/plain": [
              "<tf.Tensor 'IteratorGetNext_6:0' shape=(2,) dtype=float64>"
            ]
          },
          "metadata": {},
          "execution_count": 55
        }
      ]
    },
    {
      "cell_type": "code",
      "source": [
        "# executing operation\n",
        "\n",
        "# initialize session & run operation iterator\n",
        "with tf.Session() as sess:\n",
        "  # feeding placeholder into data\n",
        "  sess.run(iterator.initializer,feed_dict={pl:x})\n",
        "  print(sess.run(get_next))"
      ],
      "metadata": {
        "colab": {
          "base_uri": "https://localhost:8080/"
        },
        "id": "SP_PaXwsPsaJ",
        "outputId": "55ce6ae3-1ce1-45e7-b1b8-f731d4cd745c"
      },
      "execution_count": 56,
      "outputs": [
        {
          "output_type": "stream",
          "name": "stdout",
          "text": [
            "[0.83707797 0.8023196 ]\n"
          ]
        }
      ]
    }
  ]
}