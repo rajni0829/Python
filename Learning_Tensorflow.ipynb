{
  "nbformat": 4,
  "nbformat_minor": 0,
  "metadata": {
    "colab": {
      "name": "Tensorflow_Basics.ipynb",
      "provenance": [],
      "authorship_tag": "ABX9TyM9NC3t/OT9J6v0fiuRoxCO",
      "include_colab_link": true
    },
    "kernelspec": {
      "name": "python3",
      "display_name": "Python 3"
    },
    "language_info": {
      "name": "python"
    }
  },
  "cells": [
    {
      "cell_type": "markdown",
      "metadata": {
        "id": "view-in-github",
        "colab_type": "text"
      },
      "source": [
        "<a href=\"https://colab.research.google.com/github/rajni0829/Python/blob/main/Learning_Tensorflow.ipynb\" target=\"_parent\"><img src=\"https://colab.research.google.com/assets/colab-badge.svg\" alt=\"Open In Colab\"/></a>"
      ]
    },
    {
      "cell_type": "code",
      "execution_count": 1,
      "metadata": {
        "colab": {
          "base_uri": "https://localhost:8080/"
        },
        "id": "_IHplVJIc3JN",
        "outputId": "cdcdae36-15da-46d8-9793-2920772c5a7f"
      },
      "outputs": [
        {
          "output_type": "stream",
          "name": "stdout",
          "text": [
            "2.7.0\n"
          ]
        }
      ],
      "source": [
        "import tensorflow as tf\n",
        "print(tf.__version__)"
      ]
    },
    {
      "cell_type": "code",
      "source": [
        "## Default name \n",
        "x = tf.constant(10,tf.int32)\n",
        "print(x)\n"
      ],
      "metadata": {
        "colab": {
          "base_uri": "https://localhost:8080/"
        },
        "id": "XB4q9kLXdLTw",
        "outputId": "96ced8b9-8a90-4c22-88ca-ed096fad99af"
      },
      "execution_count": 2,
      "outputs": [
        {
          "output_type": "stream",
          "name": "stdout",
          "text": [
            "tf.Tensor(10, shape=(), dtype=int32)\n"
          ]
        }
      ]
    },
    {
      "cell_type": "code",
      "source": [
        "# naming\n",
        "y = tf.constant(10,tf.int32,name=\"my_conso\")\n",
        "print(y)"
      ],
      "metadata": {
        "colab": {
          "base_uri": "https://localhost:8080/"
        },
        "id": "6w-LVcxcdLWl",
        "outputId": "af73160d-5a7f-4505-8ff0-5027ad549ebc"
      },
      "execution_count": 3,
      "outputs": [
        {
          "output_type": "stream",
          "name": "stdout",
          "text": [
            "tf.Tensor(10, shape=(), dtype=int32)\n"
          ]
        }
      ]
    },
    {
      "cell_type": "code",
      "source": [
        "# decimal data\n",
        "q1 = tf.constant(123.456,tf.float32)\n",
        "print(q1)"
      ],
      "metadata": {
        "colab": {
          "base_uri": "https://localhost:8080/"
        },
        "id": "IPlF_2jUdLam",
        "outputId": "5da50cac-1ce1-4aea-dae7-688583a37c3e"
      },
      "execution_count": 4,
      "outputs": [
        {
          "output_type": "stream",
          "name": "stdout",
          "text": [
            "tf.Tensor(123.456, shape=(), dtype=float32)\n"
          ]
        }
      ]
    },
    {
      "cell_type": "code",
      "source": [
        "# string \n",
        "q1_str = tf.constant(\"Heyy!\",tf.string)\n",
        "print(q1_str)\n",
        "\n",
        "q2_boolean = tf.constant([True, True, False], tf.bool)\n",
        "print(q2_boolean) "
      ],
      "metadata": {
        "colab": {
          "base_uri": "https://localhost:8080/"
        },
        "id": "ipGqTUoEeDoO",
        "outputId": "d37ca3f8-4339-48f0-f75a-2a1f82507db1"
      },
      "execution_count": 5,
      "outputs": [
        {
          "output_type": "stream",
          "name": "stdout",
          "text": [
            "tf.Tensor(b'Heyy!', shape=(), dtype=string)\n",
            "tf.Tensor([ True  True False], shape=(3,), dtype=bool)\n"
          ]
        }
      ]
    },
    {
      "cell_type": "code",
      "source": [
        "# 1D Tensor\n",
        "t1 = tf.constant([1,2,3],tf.int32)\n",
        "t2 = tf.constant([[1],[2],[3]],tf.int32)\n",
        "t3 = tf.constant([[[1,2],[3,4],[5,6]]],tf.int32)\n",
        "\n",
        "print(t1)\n",
        "print(t2)\n",
        "print(t3)"
      ],
      "metadata": {
        "colab": {
          "base_uri": "https://localhost:8080/"
        },
        "id": "lbXnc7tBeDqv",
        "outputId": "a3be350f-b36b-44e3-bd04-d10c13165285"
      },
      "execution_count": 6,
      "outputs": [
        {
          "output_type": "stream",
          "name": "stdout",
          "text": [
            "tf.Tensor([1 2 3], shape=(3,), dtype=int32)\n",
            "tf.Tensor(\n",
            "[[1]\n",
            " [2]\n",
            " [3]], shape=(3, 1), dtype=int32)\n",
            "tf.Tensor(\n",
            "[[[1 2]\n",
            "  [3 4]\n",
            "  [5 6]]], shape=(1, 3, 2), dtype=int32)\n"
          ]
        }
      ]
    },
    {
      "cell_type": "code",
      "source": [
        "#shape\n",
        "sh = tf.constant([[11,12],[13,14],[21,76]])\n",
        "sh\n"
      ],
      "metadata": {
        "id": "BQLdIzHdeDuI",
        "colab": {
          "base_uri": "https://localhost:8080/"
        },
        "outputId": "caf11766-2876-46ca-bb71-58fdad1333ac"
      },
      "execution_count": 7,
      "outputs": [
        {
          "output_type": "execute_result",
          "data": {
            "text/plain": [
              "<tf.Tensor: shape=(3, 2), dtype=int32, numpy=\n",
              "array([[11, 12],\n",
              "       [13, 14],\n",
              "       [21, 76]], dtype=int32)>"
            ]
          },
          "metadata": {},
          "execution_count": 7
        }
      ]
    },
    {
      "cell_type": "code",
      "source": [
        "# add\n",
        "t_a = tf.constant([1,2,3],dtype=tf.int32)\n",
        "t_b = tf.constant([4,5,6],dtype=tf.int32)\n",
        "\n",
        "sum = tf.add(t_a,t_b)\n",
        "print(sum)"
      ],
      "metadata": {
        "colab": {
          "base_uri": "https://localhost:8080/"
        },
        "id": "H9eVmdI2gPky",
        "outputId": "48afcce0-a829-48b9-9640-3a648ba17927"
      },
      "execution_count": 8,
      "outputs": [
        {
          "output_type": "stream",
          "name": "stdout",
          "text": [
            "tf.Tensor([5 7 9], shape=(3,), dtype=int32)\n"
          ]
        }
      ]
    },
    {
      "cell_type": "code",
      "source": [
        "# sub\n",
        "t_a = tf.constant([[14,20,30]],dtype=tf.int32)\n",
        "t_b = tf.constant([[4,5,6]],dtype=tf.int32)\n",
        "\n",
        "sub = tf.subtract(t_a,t_b)\n",
        "print(sub)"
      ],
      "metadata": {
        "colab": {
          "base_uri": "https://localhost:8080/"
        },
        "id": "myHLO7l1lJEw",
        "outputId": "e921a591-9ab4-4e93-eb8c-5370bb587d6c"
      },
      "execution_count": 9,
      "outputs": [
        {
          "output_type": "stream",
          "name": "stdout",
          "text": [
            "tf.Tensor([[10 15 24]], shape=(1, 3), dtype=int32)\n"
          ]
        }
      ]
    },
    {
      "cell_type": "code",
      "source": [
        "#divide\n",
        "div = tf.divide(t_a,t_b)\n",
        "div"
      ],
      "metadata": {
        "colab": {
          "base_uri": "https://localhost:8080/"
        },
        "id": "c1En-9NHlJIU",
        "outputId": "00b50260-eb39-4db3-b7c0-e082e314e7e5"
      },
      "execution_count": 10,
      "outputs": [
        {
          "output_type": "execute_result",
          "data": {
            "text/plain": [
              "<tf.Tensor: shape=(1, 3), dtype=float64, numpy=array([[3.5, 4. , 5. ]])>"
            ]
          },
          "metadata": {},
          "execution_count": 10
        }
      ]
    },
    {
      "cell_type": "code",
      "source": [
        "x = tf.constant([9.0],dtype=tf.float32)\n",
        "print(tf.sqrt(x))"
      ],
      "metadata": {
        "colab": {
          "base_uri": "https://localhost:8080/"
        },
        "id": "jAQOvnGLgPnj",
        "outputId": "8990b862-373d-498a-f80e-6780e79ff122"
      },
      "execution_count": 11,
      "outputs": [
        {
          "output_type": "stream",
          "name": "stdout",
          "text": [
            "tf.Tensor([3.], shape=(1,), dtype=float32)\n"
          ]
        }
      ]
    },
    {
      "cell_type": "code",
      "source": [
        "# creating var\n",
        "var = tf.Variable(\"var\",[1,2])\n",
        "print(var.shape)\n",
        "print(var.name)"
      ],
      "metadata": {
        "colab": {
          "base_uri": "https://localhost:8080/"
        },
        "id": "-wHOvaU2gPqe",
        "outputId": "6638ce4f-d0a7-4d02-cc41-c143ae879afe"
      },
      "execution_count": 12,
      "outputs": [
        {
          "output_type": "stream",
          "name": "stdout",
          "text": [
            "()\n",
            "Variable:0\n"
          ]
        }
      ]
    },
    {
      "cell_type": "code",
      "source": [
        "x = tf.constant([2], dtype=tf.int32)\n",
        "f = tf.constant([5], dtype=tf.int32)\n",
        "print(tf.pow(x,f))\n"
      ],
      "metadata": {
        "colab": {
          "base_uri": "https://localhost:8080/"
        },
        "id": "dedNYGAWlBLj",
        "outputId": "783aa54f-f9b0-4ce1-9094-75f42f3e2a18"
      },
      "execution_count": 13,
      "outputs": [
        {
          "output_type": "stream",
          "name": "stdout",
          "text": [
            "tf.Tensor([32], shape=(1,), dtype=int32)\n"
          ]
        }
      ]
    },
    {
      "cell_type": "code",
      "source": [
        "#Exponent\n",
        "y = tf.constant([2.0], dtype=tf.float32)\n",
        "print(tf.exp(y))\n"
      ],
      "metadata": {
        "colab": {
          "base_uri": "https://localhost:8080/"
        },
        "id": "FzhvV6hdlBO8",
        "outputId": "e926d3d2-7e87-40dc-e44b-87b7d70383dd"
      },
      "execution_count": 14,
      "outputs": [
        {
          "output_type": "stream",
          "name": "stdout",
          "text": [
            "tf.Tensor([7.389056], shape=(1,), dtype=float32)\n"
          ]
        }
      ]
    },
    {
      "cell_type": "code",
      "source": [
        "# placeholder\n",
        "import warnings\n",
        "warnings.filterwarnings(\"ignore\")\n",
        "\n",
        "import tensorflow.compat.v1 as tf\n",
        "tf.disable_v2_behavior()\n",
        "\n",
        "pl = tf.placeholder(tf.int32,shape=None,name=\"She\")\n",
        "print(pl)"
      ],
      "metadata": {
        "colab": {
          "base_uri": "https://localhost:8080/"
        },
        "id": "W_i712qtgPum",
        "outputId": "cc38a2a4-e1b5-46ed-d9b3-cddc7652358b"
      },
      "execution_count": 15,
      "outputs": [
        {
          "output_type": "stream",
          "name": "stdout",
          "text": [
            "WARNING:tensorflow:From /usr/local/lib/python3.7/dist-packages/tensorflow/python/compat/v2_compat.py:111: disable_resource_variables (from tensorflow.python.ops.variable_scope) is deprecated and will be removed in a future version.\n",
            "Instructions for updating:\n",
            "non-resource variables are not supported in the long term\n",
            "Tensor(\"She:0\", dtype=int32)\n"
          ]
        }
      ]
    },
    {
      "cell_type": "code",
      "source": [
        "# Creating Two Sensors\n",
        "x = tf.constant([1,2],tf.int32)\n",
        "y = tf.constant([3,4],tf.int32)"
      ],
      "metadata": {
        "id": "3TUZbiAXkC0Y"
      },
      "execution_count": 16,
      "outputs": []
    },
    {
      "cell_type": "code",
      "source": [
        "# creating operator\n",
        "mul = tf.multiply(x,y)\n",
        "mul"
      ],
      "metadata": {
        "colab": {
          "base_uri": "https://localhost:8080/"
        },
        "id": "hQVHFvexkC3I",
        "outputId": "c674014d-8bd6-4463-dab4-40fbc849b9aa"
      },
      "execution_count": 17,
      "outputs": [
        {
          "output_type": "execute_result",
          "data": {
            "text/plain": [
              "<tf.Tensor 'Mul:0' shape=(2,) dtype=int32>"
            ]
          },
          "metadata": {},
          "execution_count": 17
        }
      ]
    },
    {
      "cell_type": "code",
      "source": [
        "# Opening a session\n",
        "session = tf.Session()\n",
        "res = session.run(mul)\n",
        "print(res)\n",
        "session.close()"
      ],
      "metadata": {
        "colab": {
          "base_uri": "https://localhost:8080/"
        },
        "id": "ZAhZHG7pkC6h",
        "outputId": "5101ce3a-afa5-421f-bc5e-1e4b7cec18dc"
      },
      "execution_count": 18,
      "outputs": [
        {
          "output_type": "stream",
          "name": "stdout",
          "text": [
            "[3 8]\n"
          ]
        }
      ]
    }
  ]
}