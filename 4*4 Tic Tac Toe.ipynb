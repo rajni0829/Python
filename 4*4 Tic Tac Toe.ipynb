{
  "nbformat": 4,
  "nbformat_minor": 0,
  "metadata": {
    "colab": {
      "name": "Untitled13.ipynb",
      "provenance": [],
      "authorship_tag": "ABX9TyOOyjVG8mYxdLD4oj7UmLKs",
      "include_colab_link": true
    },
    "kernelspec": {
      "name": "python3",
      "display_name": "Python 3"
    },
    "language_info": {
      "name": "python"
    }
  },
  "cells": [
    {
      "cell_type": "markdown",
      "metadata": {
        "id": "view-in-github",
        "colab_type": "text"
      },
      "source": [
        "<a href=\"https://colab.research.google.com/github/rajni0829/Python/blob/main/4*4%20Tic%20Tac%20Toe.ipynb\" target=\"_parent\"><img src=\"https://colab.research.google.com/assets/colab-badge.svg\" alt=\"Open In Colab\"/></a>"
      ]
    },
    {
      "cell_type": "code",
      "source": [
        "# ! pip install pygame"
      ],
      "metadata": {
        "id": "bOAWEL59Xmce"
      },
      "execution_count": 14,
      "outputs": []
    },
    {
      "cell_type": "code",
      "source": [
        "import pygame,sys\n",
        "import numpy as np\n",
        "\n",
        "# Initialising pygame\n",
        "pygame.init()\n",
        "\n",
        "# Initializing Constants\n",
        "WIDTH         = 700\n",
        "HEIGHT        = WIDTH\n",
        "LINE_WIDTH    = 15\n",
        "BOARD_ROWS    = 4\n",
        "BOARD_COLS    = 4\n",
        "SQUARE_SIZE   = WIDTH//BOARD_COLS\n",
        "SPACE         = SQUARE_SIZE//4      # space b/w each square corner & crossline\n",
        "CIRCLE_RADIUS = SQUARE_SIZE//3\n",
        "CIRCLE_WIDTH  = 15\n",
        "CROSS_WIDTH   = 25\n",
        "\n",
        "\n",
        "# Color codes\n",
        "LINE_COLOR     = (255,0,0)\n",
        "BG_COLOR       = (0,0,0)\n",
        "BLACK          = (0,0,0)\n",
        "RED            = (255,0,0)\n",
        "WHITE          = (255,255,255)\n",
        "CIRCLE_COLOR   = (255,0,0)\n",
        "CROSS_COLOR    = (0, 181, 184)\n",
        "\n",
        "\n",
        "# Creating Screen\n",
        "screen = pygame.display.set_mode((WIDTH,HEIGHT))\n",
        "pygame.display.set_caption('TIC TAC TOE')          # Adding Title\n",
        "screen.fill(BG_COLOR)                              # adding color\n",
        "\n",
        "\n",
        "# Creating board\n",
        "board = np.zeros((BOARD_ROWS,BOARD_COLS))\n"
      ],
      "metadata": {
        "id": "zmxtra8hWqIR"
      },
      "execution_count": 14,
      "outputs": []
    },
    {
      "cell_type": "code",
      "source": [
        "# func to draw main 4 Lines to play\n",
        "def drawLines():\n",
        "    # parameters : screen, color, starting pos ,ending, width\n",
        "    pygame.draw.line(screen,WHITE,(0,SQUARE_SIZE),(WIDTH,SQUARE_SIZE),LINE_WIDTH)         # horizontal1\n",
        "    pygame.draw.line(screen,WHITE,(0,2*SQUARE_SIZE),(WIDTH,2*SQUARE_SIZE),LINE_WIDTH)     # horizontal2\n",
        "    pygame.draw.line(screen,WHITE,(0,3*SQUARE_SIZE),(WIDTH,3*SQUARE_SIZE),LINE_WIDTH)     # horizontal3\n",
        "    pygame.draw.line(screen,WHITE,(SQUARE_SIZE,0),(SQUARE_SIZE,HEIGHT),LINE_WIDTH)        # vertical1\n",
        "    pygame.draw.line(screen,WHITE,(2*SQUARE_SIZE,0),(2*SQUARE_SIZE,HEIGHT),LINE_WIDTH)    # vertical2\n",
        "    pygame.draw.line(screen,WHITE,(3*SQUARE_SIZE,0),(3*SQUARE_SIZE,HEIGHT),LINE_WIDTH)    # vertical3\n"
      ],
      "metadata": {
        "id": "Cld-3BdEWlJT"
      },
      "execution_count": 15,
      "outputs": []
    },
    {
      "cell_type": "code",
      "source": [
        "\n",
        "def drawFigures():\n",
        "    for row in range(BOARD_ROWS):\n",
        "        for col in range(BOARD_COLS):\n",
        "\n",
        "            # if its player1 use \"O\" , if val==1 means player has marked his turn\n",
        "            if board[row][col] == 1:  \n",
        "                pygame.draw.circle(screen,CIRCLE_COLOR,(int(col * SQUARE_SIZE + SQUARE_SIZE//2),int(row * SQUARE_SIZE + SQUARE_SIZE//2)),CIRCLE_RADIUS,CIRCLE_WIDTH)    #drawing circle in the centre of x axis\n",
        "            \n",
        "            elif board[row][col] == 2:\n",
        "                pygame.draw.line(screen,CROSS_COLOR,(col*SQUARE_SIZE+SPACE,row*SQUARE_SIZE+SQUARE_SIZE-SPACE),(col*SQUARE_SIZE+SQUARE_SIZE-SPACE,row*SQUARE_SIZE+SPACE),CROSS_WIDTH)\n",
        "\n",
        "                pygame.draw.line(screen,CROSS_COLOR,(col*SQUARE_SIZE+SPACE,row*SQUARE_SIZE+SPACE),(col*SQUARE_SIZE+SQUARE_SIZE-SPACE,row*SQUARE_SIZE+SQUARE_SIZE-SPACE),CROSS_WIDTH)\n",
        "\n"
      ],
      "metadata": {
        "id": "19XfZDykWrF0"
      },
      "execution_count": 16,
      "outputs": []
    },
    {
      "cell_type": "code",
      "source": [
        "\n",
        "\n",
        "def markSquare(row,col,player):          # marks coordinates in the box\n",
        "    board[row][col] = player             # OR replace 0 with player in (row,col) coordinate\n",
        "\n",
        "\n",
        "def availableSquare(row,col):            # returns TRUE if availabe else FALSE\n",
        "    return board[row][col] == 0          \n",
        "    \n",
        "\n",
        "def isBoardFull():                       # traverse each square & check whether available\n",
        "    for row in range(BOARD_ROWS):\n",
        "        for col in range(BOARD_COLS):\n",
        "            if board[row][col] == 0:\n",
        "                return  False\n",
        "\n",
        "    return True\n"
      ],
      "metadata": {
        "id": "E9Iby30GWsTC"
      },
      "execution_count": 17,
      "outputs": []
    },
    {
      "cell_type": "code",
      "source": [
        "\n",
        "def checkWin(player):\n",
        "    #vertical win check\n",
        "    for col in range(BOARD_COLS):\n",
        "        if board[0][col] == player and board[1][col] == player and board[2][col] == player and board[3][col] == player:\n",
        "            drawVerticalWinningLine(col,player)\n",
        "            return True\n",
        "\n",
        "    # horizontal win check\n",
        "    for row in range(BOARD_ROWS):\n",
        "        if board[row][0] == player and board[row][1] == player and board[row][2] == player and board[row][3] == player:\n",
        "            drawHorizontalWinningLine(row,player)\n",
        "            return True\n",
        "\n",
        "    # ascending diagonal winning check\n",
        "    if board[3][0] == player and board[2][1]== player and board[1][2] == player and board[0][3] == player:\n",
        "        drawAscDiagonal(player)\n",
        "        return True\n",
        "\n",
        "    if board[0][0] == player and board[1][1]== player and board[2][2] == player and board[3][3] == player:\n",
        "        drawDescDiagonal(player)\n",
        "        return True\n"
      ],
      "metadata": {
        "id": "NCiC3f3BWsWh"
      },
      "execution_count": 18,
      "outputs": []
    },
    {
      "cell_type": "code",
      "source": [
        "\n",
        "def drawVerticalWinningLine(col,player):\n",
        "    posX = col*SQUARE_SIZE + SQUARE_SIZE//2                    # since vert so X pos wont change\n",
        "    if player == 1:\n",
        "        color = CIRCLE_COLOR\n",
        "    elif player == 2:\n",
        "        color = CROSS_COLOR\n",
        "\n",
        "    pygame.draw.line(screen,color,(posX,15),(posX,HEIGHT-15),15)\n",
        "\n"
      ],
      "metadata": {
        "id": "xiOUDHpIW4Hx"
      },
      "execution_count": 19,
      "outputs": []
    },
    {
      "cell_type": "code",
      "source": [
        "def drawHorizontalWinningLine(row,player):\n",
        "    posY = row*SQUARE_SIZE+SQUARE_SIZE//2                    # since horiz so Y pos wont change\n",
        "    if player == 1:\n",
        "        color = CIRCLE_COLOR\n",
        "    elif player == 2:\n",
        "        color = CROSS_COLOR\n",
        "\n",
        "    pygame.draw.line(screen,color,(15,posY),(WIDTH-15,posY),15)\n",
        "\n"
      ],
      "metadata": {
        "id": "SZzOoflRW4Km"
      },
      "execution_count": 20,
      "outputs": []
    },
    {
      "cell_type": "code",
      "source": [
        "\n",
        "def drawAscDiagonal(player):\n",
        "    if player == 1:\n",
        "        color = CIRCLE_COLOR\n",
        "    elif player == 2:\n",
        "        color = CROSS_COLOR\n",
        "    \n",
        "    pygame.draw.line(screen,color,(15,HEIGHT-15),(WIDTH-15,15),15)\n",
        "\n",
        "\n",
        "def drawDescDiagonal(player):\n",
        "    if player == 1:\n",
        "        color = CIRCLE_COLOR\n",
        "    elif player == 2:\n",
        "        color = CROSS_COLOR\n",
        "    \n",
        "    pygame.draw.line(screen,color,(15,15),(WIDTH-15,HEIGHT-15),15)\n",
        "\n",
        "\n"
      ],
      "metadata": {
        "id": "L7pR_QxCW4OC"
      },
      "execution_count": 21,
      "outputs": []
    },
    {
      "cell_type": "code",
      "source": [
        "def restart():\n",
        "    screen.fill(BG_COLOR)\n",
        "    drawLines()\n",
        "    player = 1\n",
        "    for row in range(BOARD_ROWS):\n",
        "        for col in range(BOARD_COLS):\n",
        "            board[row][col] = 0\n",
        "\n",
        "drawLines()"
      ],
      "metadata": {
        "id": "9vKDHZ4vXaCx"
      },
      "execution_count": 22,
      "outputs": []
    },
    {
      "cell_type": "code",
      "source": [
        "\n",
        "# Driver code\n",
        "player = 1\n",
        "gameOver = False\n",
        "\n",
        "while True:\n",
        "    for event in pygame.event.get():            \n",
        "        if event.type == pygame.QUIT:\n",
        "            sys.exit()\n",
        "\n",
        "        # checking if we're clicking the screen ?\n",
        "        if event.type == pygame.MOUSEBUTTONDOWN and not gameOver:\n",
        "            \n",
        "            mouseX = event.pos[0]                           # accessing x  coordinate\n",
        "            mouseY = event.pos[1]                           # accessing y coordinate\n",
        "\n",
        "\n",
        "            clickedRow = int(mouseY // SQUARE_SIZE)         #len of each sq = SQUARE_SIZE\n",
        "            clickedCol = int(mouseX // SQUARE_SIZE)\n",
        "            \n",
        "\n",
        "            if availableSquare(clickedRow, clickedCol):\n",
        "                markSquare(clickedRow,clickedCol,player)\n",
        "                if checkWin(player):\n",
        "                    print(\"Player{} Wins\".format(player))\n",
        "                    gameOver = True\n",
        "                player = player % 2 + 1                    # changes player name\n",
        "\n",
        "                drawFigures()\n",
        "\n",
        "        if event.type == pygame.KEYDOWN:                  # whether user clicks a key\n",
        "            if event.key == pygame.K_r:\n",
        "                restart()\n",
        "                gameOver = False\n",
        "\n",
        "\n",
        "    pygame.display.update()\n",
        "\n",
        "print(\"\\n\")"
      ],
      "metadata": {
        "id": "pMtdIv81XIL9"
      },
      "execution_count": 22,
      "outputs": []
    }
  ]
}